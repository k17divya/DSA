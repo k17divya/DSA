{
 "cells": [
  {
   "cell_type": "code",
   "execution_count": 1,
   "id": "1849d355-5b7d-42e2-8a3f-305276d0a547",
   "metadata": {},
   "outputs": [],
   "source": [
    "# problem 1"
   ]
  },
  {
   "cell_type": "code",
   "execution_count": 2,
   "id": "8d68d62a-2ef2-47d9-9bd6-e35b1ef06919",
   "metadata": {},
   "outputs": [
    {
     "name": "stdout",
     "output_type": "stream",
     "text": [
      "Original Linked List:\n",
      "1 -> 2 -> 3 -> 4 -> 5 -> None\n",
      "Reversed Linked List:\n",
      "5 -> 4 -> 3 -> 2 -> 1 -> None\n"
     ]
    }
   ],
   "source": [
    "class Node:\n",
    "    def __init__(self, value):\n",
    "        self.value = value\n",
    "        self.next = None\n",
    "\n",
    "class LinkedList:\n",
    "    def __init__(self):\n",
    "        self.head = None\n",
    "\n",
    "    def add_node(self, value):\n",
    "        new_node = Node(value)\n",
    "        if not self.head:\n",
    "            self.head = new_node\n",
    "        else:\n",
    "            current = self.head\n",
    "            while current.next:\n",
    "                current = current.next\n",
    "            current.next = new_node\n",
    "\n",
    "    def reverse_list(self):\n",
    "        prev = None\n",
    "        current = self.head\n",
    "        while current:\n",
    "            next_node = current.next\n",
    "            current.next = prev\n",
    "            prev = current\n",
    "            current = next_node\n",
    "        self.head = prev\n",
    "\n",
    "    def display(self):\n",
    "        current = self.head\n",
    "        while current:\n",
    "            print(current.value, end=\" -> \")\n",
    "            current = current.next\n",
    "        print(\"None\")\n",
    "\n",
    "# Creating the linked list\n",
    "my_list = LinkedList()\n",
    "my_list.add_node(1)\n",
    "my_list.add_node(2)\n",
    "my_list.add_node(3)\n",
    "my_list.add_node(4)\n",
    "my_list.add_node(5)\n",
    "\n",
    "print(\"Original Linked List:\")\n",
    "my_list.display()\n",
    "\n",
    "my_list.reverse_list()\n",
    "\n",
    "print(\"Reversed Linked List:\")\n",
    "my_list.display()\n"
   ]
  },
  {
   "cell_type": "code",
   "execution_count": 3,
   "id": "a4209b73-752b-4a8f-a1f5-5497e54ce461",
   "metadata": {},
   "outputs": [],
   "source": [
    "# problem 2"
   ]
  },
  {
   "cell_type": "code",
   "execution_count": 1,
   "id": "4bf07504-c338-43cb-9111-6b2cc77f4c26",
   "metadata": {},
   "outputs": [
    {
     "name": "stdout",
     "output_type": "stream",
     "text": [
      "1 -> 2 -> 3 -> 4 -> 5 -> 6 -> "
     ]
    }
   ],
   "source": [
    "class ListNode:\n",
    "    def __init__(self, val=0, next=None):\n",
    "        self.val = val\n",
    "        self.next = next\n",
    "\n",
    "def merge_sorted_lists(l1, l2):\n",
    "    dummy = ListNode()\n",
    "    current = dummy\n",
    "\n",
    "    while l1 is not None and l2 is not None:\n",
    "        if l1.val < l2.val:\n",
    "            current.next = l1\n",
    "            l1 = l1.next\n",
    "        else:\n",
    "            current.next = l2\n",
    "            l2 = l2.next\n",
    "\n",
    "        current = current.next\n",
    "\n",
    "    # If one of the lists is not exhausted, append the remaining elements\n",
    "    if l1 is not None:\n",
    "        current.next = l1\n",
    "    elif l2 is not None:\n",
    "        current.next = l2\n",
    "\n",
    "    return dummy.next\n",
    "\n",
    "# Example usage:\n",
    "# Create the linked lists\n",
    "list1 = ListNode(1, ListNode(3, ListNode(5)))\n",
    "list2 = ListNode(2, ListNode(4, ListNode(6)))\n",
    "\n",
    "# Merge the lists\n",
    "result = merge_sorted_lists(list1, list2)\n",
    "\n",
    "# Print the result\n",
    "while result is not None:\n",
    "    print(result.val, end=\" -> \")\n",
    "    result = result.next"
   ]
  },
  {
   "cell_type": "code",
   "execution_count": 2,
   "id": "f96678f3-ff5a-4298-8146-65622ea0d1c4",
   "metadata": {},
   "outputs": [],
   "source": [
    "# problem 3"
   ]
  },
  {
   "cell_type": "code",
   "execution_count": 3,
   "id": "cfd03dbe-7dbf-43ab-a8cf-1ad93377b710",
   "metadata": {},
   "outputs": [
    {
     "name": "stdout",
     "output_type": "stream",
     "text": [
      "1 -> 2 -> 3 -> 5 -> "
     ]
    }
   ],
   "source": [
    "class ListNode:\n",
    "    def __init__(self, val=0, next=None):\n",
    "        self.val = val\n",
    "        self.next = next\n",
    "\n",
    "def remove_nth_from_end(head, n):\n",
    "    dummy = ListNode(0)\n",
    "    dummy.next = head\n",
    "    first = dummy\n",
    "    second = dummy\n",
    "\n",
    "    # Move the second pointer n+1 steps ahead\n",
    "    for _ in range(n + 1):\n",
    "        second = second.next\n",
    "\n",
    "    # Move both pointers until the second pointer reaches the end\n",
    "    while second is not None:\n",
    "        first = first.next\n",
    "        second = second.next\n",
    "\n",
    "    # Remove the nth node from the end\n",
    "    first.next = first.next.next\n",
    "\n",
    "    return dummy.next\n",
    "\n",
    "# Example usage:\n",
    "# Create the linked list\n",
    "head = ListNode(1, ListNode(2, ListNode(3, ListNode(4, ListNode(5)))))\n",
    "\n",
    "# Remove the 2nd node from the end\n",
    "result = remove_nth_from_end(head, 2)\n",
    "\n",
    "# Print the result\n",
    "while result is not None:\n",
    "    print(result.val, end=\" -> \")\n",
    "    result = result.next"
   ]
  },
  {
   "cell_type": "code",
   "execution_count": 4,
   "id": "b7a6cbd9-2686-49be-8fa4-57c740863d80",
   "metadata": {},
   "outputs": [],
   "source": [
    "# problem 4"
   ]
  },
  {
   "cell_type": "code",
   "execution_count": 5,
   "id": "5e8677d2-7b2a-46ea-bc3f-e686f9f5b977",
   "metadata": {},
   "outputs": [
    {
     "name": "stdout",
     "output_type": "stream",
     "text": [
      "Intersection point is at node with value: 3\n"
     ]
    }
   ],
   "source": [
    "class ListNode:\n",
    "    def __init__(self, val=0, next=None):\n",
    "        self.val = val\n",
    "        self.next = next\n",
    "\n",
    "def get_length(head):\n",
    "    length = 0\n",
    "    while head:\n",
    "        length += 1\n",
    "        head = head.next\n",
    "    return length\n",
    "\n",
    "def get_intersection_node(headA, headB):\n",
    "    lenA, lenB = get_length(headA), get_length(headB)\n",
    "\n",
    "    # Adjust the starting points\n",
    "    while lenA > lenB:\n",
    "        headA = headA.next\n",
    "        lenA -= 1\n",
    "    while lenB > lenA:\n",
    "        headB = headB.next\n",
    "        lenB -= 1\n",
    "\n",
    "    # Iterate until the intersection point is found\n",
    "    while headA != headB:\n",
    "        headA = headA.next\n",
    "        headB = headB.next\n",
    "\n",
    "    return headA\n",
    "\n",
    "# Example usage:\n",
    "# Create the linked lists\n",
    "list1 = ListNode(1, ListNode(2, ListNode(3, ListNode(4))))\n",
    "list2 = ListNode(9, ListNode(8, list1.next.next))  # Point of intersection is at the third node\n",
    "\n",
    "# Find the intersection point\n",
    "intersection_node = get_intersection_node(list1, list2)\n",
    "\n",
    "# Print the result\n",
    "if intersection_node:\n",
    "    print(\"Intersection point is at node with value:\", intersection_node.val)\n",
    "else:\n",
    "    print(\"No intersection point found.\")"
   ]
  },
  {
   "cell_type": "code",
   "execution_count": 6,
   "id": "a3038d3b-afc2-4c2f-bbd7-860a58108cd4",
   "metadata": {},
   "outputs": [],
   "source": [
    "# problem 5"
   ]
  },
  {
   "cell_type": "code",
   "execution_count": 7,
   "id": "1ed167a8-0ed5-4c52-a89b-d3ee2ed229f8",
   "metadata": {},
   "outputs": [
    {
     "name": "stdout",
     "output_type": "stream",
     "text": [
      "1 -> 2 -> 3 -> "
     ]
    }
   ],
   "source": [
    "class ListNode:\n",
    "    def __init__(self, val=0, next=None):\n",
    "        self.val = val\n",
    "        self.next = next\n",
    "\n",
    "def remove_duplicates(head):\n",
    "    current = head\n",
    "\n",
    "    while current is not None and current.next is not None:\n",
    "        if current.val == current.next.val:\n",
    "            # Skip the next node to remove the duplicate\n",
    "            current.next = current.next.next\n",
    "        else:\n",
    "            # Move to the next node\n",
    "            current = current.next\n",
    "\n",
    "    return head\n",
    "\n",
    "# Example usage:\n",
    "# Create the linked list\n",
    "head = ListNode(1, ListNode(1, ListNode(2, ListNode(3, ListNode(3)))))\n",
    "\n",
    "# Remove duplicates\n",
    "result = remove_duplicates(head)\n",
    "\n",
    "# Print the result\n",
    "while result is not None:\n",
    "    print(result.val, end=\" -> \")\n",
    "    result = result.next"
   ]
  },
  {
   "cell_type": "code",
   "execution_count": 8,
   "id": "ab328b35-6f40-4b84-8845-dc9bbe1c37e9",
   "metadata": {},
   "outputs": [],
   "source": [
    "# problem 6"
   ]
  },
  {
   "cell_type": "code",
   "execution_count": 9,
   "id": "8ab808ef-365e-4e7b-8889-4a562808317a",
   "metadata": {},
   "outputs": [
    {
     "name": "stdout",
     "output_type": "stream",
     "text": [
      "7 -> 0 -> 8 -> "
     ]
    }
   ],
   "source": [
    "class ListNode:\n",
    "    def __init__(self, val=0, next=None):\n",
    "        self.val = val\n",
    "        self.next = next\n",
    "\n",
    "def add_two_numbers(l1, l2):\n",
    "    dummy = ListNode()\n",
    "    current = dummy\n",
    "    carry = 0\n",
    "\n",
    "    while l1 or l2 or carry:\n",
    "        # Extract digits from the current nodes (or 0 if the node is None)\n",
    "        val1 = l1.val if l1 else 0\n",
    "        val2 = l2.val if l2 else 0\n",
    "\n",
    "        # Calculate the sum and carry\n",
    "        total_sum = val1 + val2 + carry\n",
    "        carry = total_sum // 10\n",
    "\n",
    "        # Create a new node with the digit in the sum\n",
    "        current.next = ListNode(total_sum % 10)\n",
    "        current = current.next\n",
    "\n",
    "        # Move to the next nodes if they exist\n",
    "        if l1:\n",
    "            l1 = l1.next\n",
    "        if l2:\n",
    "            l2 = l2.next\n",
    "\n",
    "    return dummy.next\n",
    "\n",
    "# Example usage:\n",
    "# Create the linked lists\n",
    "list1 = ListNode(2, ListNode(4, ListNode(3)))\n",
    "list2 = ListNode(5, ListNode(6, ListNode(4)))\n",
    "\n",
    "# Add the numbers\n",
    "result = add_two_numbers(list1, list2)\n",
    "\n",
    "# Print the result\n",
    "while result is not None:\n",
    "    print(result.val, end=\" -> \")\n",
    "    result = result.next"
   ]
  },
  {
   "cell_type": "code",
   "execution_count": 10,
   "id": "d11dece8-bbd5-4ad9-908f-0d7330c6f08b",
   "metadata": {},
   "outputs": [],
   "source": [
    "# problem 7"
   ]
  },
  {
   "cell_type": "code",
   "execution_count": 11,
   "id": "6b44d2b5-88aa-4a76-b420-a09772718cc5",
   "metadata": {},
   "outputs": [
    {
     "name": "stdout",
     "output_type": "stream",
     "text": [
      "2 -> 1 -> 4 -> 3 -> "
     ]
    }
   ],
   "source": [
    "class ListNode:\n",
    "    def __init__(self, val=0, next=None):\n",
    "        self.val = val\n",
    "        self.next = next\n",
    "\n",
    "def swap_pairs(head):\n",
    "    dummy = ListNode()\n",
    "    dummy.next = head\n",
    "    current = dummy\n",
    "\n",
    "    while current.next and current.next.next:\n",
    "        # Nodes to be swapped\n",
    "        first = current.next\n",
    "        second = current.next.next\n",
    "\n",
    "        # Swap nodes\n",
    "        current.next = second\n",
    "        first.next = second.next\n",
    "        second.next = first\n",
    "\n",
    "        # Move to the next pair\n",
    "        current = current.next.next\n",
    "\n",
    "    return dummy.next\n",
    "\n",
    "# Example usage:\n",
    "# Create the linked list\n",
    "head = ListNode(1, ListNode(2, ListNode(3, ListNode(4))))\n",
    "\n",
    "# Swap nodes in pairs\n",
    "result = swap_pairs(head)\n",
    "\n",
    "# Print the result\n",
    "while result is not None:\n",
    "    print(result.val, end=\" -> \")\n",
    "    result = result.next"
   ]
  },
  {
   "cell_type": "code",
   "execution_count": 12,
   "id": "ebf2097e-74a1-4bc2-a0c1-1f6d1fa9a672",
   "metadata": {},
   "outputs": [],
   "source": [
    "# problem 8"
   ]
  },
  {
   "cell_type": "code",
   "execution_count": 15,
   "id": "cf187f0d-4b4d-4e0c-9019-2613639cee69",
   "metadata": {},
   "outputs": [
    {
     "name": "stdout",
     "output_type": "stream",
     "text": [
      "3 -> 2 -> 1 -> 4 -> 5 -> "
     ]
    }
   ],
   "source": [
    "class ListNode:\n",
    "    def __init__(self, val=0, next=None):\n",
    "        self.val = val\n",
    "        self.next = next\n",
    "\n",
    "def reverse_k_group(head, k):\n",
    "    # Helper function to reverse a sublist\n",
    "    def reverse_sublist(start, end):\n",
    "        prev, current = None, start\n",
    "        while current != end:\n",
    "            next_node = current.next\n",
    "            current.next = prev\n",
    "            prev = current\n",
    "            current = next_node\n",
    "        return prev\n",
    "\n",
    "    dummy = ListNode()\n",
    "    dummy.next = head\n",
    "    prev_group_end = dummy\n",
    "    current = head\n",
    "\n",
    "    while current:\n",
    "        # Find the end of the current group\n",
    "        group_end = current\n",
    "        for _ in range(k - 1):\n",
    "            if group_end:\n",
    "                group_end = group_end.next\n",
    "\n",
    "        # If there are fewer than k nodes remaining, no need to reverse\n",
    "        if not group_end:\n",
    "            break\n",
    "\n",
    "        # Save the next group's starting node\n",
    "        next_group_start = group_end.next\n",
    "\n",
    "        # Reverse the current group\n",
    "        reverse_sublist(current, next_group_start)\n",
    "\n",
    "        # Connect the reversed group to the previous group\n",
    "        prev_group_end.next = group_end\n",
    "        current.next = next_group_start\n",
    "\n",
    "        # Move pointers for the next iteration\n",
    "        prev_group_end = current\n",
    "        current = next_group_start\n",
    "\n",
    "    return dummy.next\n",
    "\n",
    "# Example usage:\n",
    "# Create the linked list\n",
    "head = ListNode(1, ListNode(2, ListNode(3, ListNode(4, ListNode(5)))))\n",
    "\n",
    "# Reverse nodes in groups of k\n",
    "result = reverse_k_group(head, 3)\n",
    "\n",
    "# Print the result\n",
    "while result is not None:\n",
    "    print(result.val, end=\" -> \")\n",
    "    result = result.next"
   ]
  },
  {
   "cell_type": "code",
   "execution_count": 16,
   "id": "c9a16629-f625-42c3-b450-7be0629206c7",
   "metadata": {},
   "outputs": [],
   "source": [
    "# problem 9"
   ]
  },
  {
   "cell_type": "code",
   "execution_count": 17,
   "id": "ecbfc27a-0c77-475b-afd7-5228576c8a77",
   "metadata": {},
   "outputs": [
    {
     "name": "stdout",
     "output_type": "stream",
     "text": [
      "True\n"
     ]
    }
   ],
   "source": [
    "class ListNode:\n",
    "    def __init__(self, val=0, next=None):\n",
    "        self.val = val\n",
    "        self.next = next\n",
    "\n",
    "def is_palindrome(head):\n",
    "    # Helper function to reverse a linked list\n",
    "    def reverse_linked_list(node):\n",
    "        prev, current = None, node\n",
    "        while current:\n",
    "            next_node = current.next\n",
    "            current.next = prev\n",
    "            prev = current\n",
    "            current = next_node\n",
    "        return prev\n",
    "\n",
    "    # Helper function to find the middle of the linked list\n",
    "    def find_middle(node):\n",
    "        slow = node\n",
    "        fast = node\n",
    "        while fast and fast.next:\n",
    "            slow = slow.next\n",
    "            fast = fast.next.next\n",
    "        return slow\n",
    "\n",
    "    # Find the middle of the linked list\n",
    "    middle = find_middle(head)\n",
    "\n",
    "    # Reverse the second half of the linked list\n",
    "    reversed_second_half = reverse_linked_list(middle)\n",
    "\n",
    "    # Compare the first and reversed second halves\n",
    "    while reversed_second_half:\n",
    "        if head.val != reversed_second_half.val:\n",
    "            return False\n",
    "        head = head.next\n",
    "        reversed_second_half = reversed_second_half.next\n",
    "\n",
    "    return True\n",
    "\n",
    "# Example usage:\n",
    "# Create the linked list\n",
    "head = ListNode(1, ListNode(2, ListNode(2, ListNode(1))))\n",
    "\n",
    "# Check if the linked list is a palindrome\n",
    "result = is_palindrome(head)\n",
    "\n",
    "# Print the result\n",
    "print(result)"
   ]
  },
  {
   "cell_type": "code",
   "execution_count": 18,
   "id": "56eaa1f1-9f16-4637-9c26-f4bf0e0c9314",
   "metadata": {},
   "outputs": [],
   "source": [
    "# problem 10"
   ]
  },
  {
   "cell_type": "code",
   "execution_count": 19,
   "id": "094b9e48-9495-4f7d-9ef9-6a27236ede9d",
   "metadata": {},
   "outputs": [
    {
     "name": "stdout",
     "output_type": "stream",
     "text": [
      "3 -> 4 -> 5 -> 1 -> 2 -> "
     ]
    }
   ],
   "source": [
    "class ListNode:\n",
    "    def __init__(self, val=0, next=None):\n",
    "        self.val = val\n",
    "        self.next = next\n",
    "\n",
    "def rotate_right(head, k):\n",
    "    # Helper function to find the length of the linked list\n",
    "    def find_length(node):\n",
    "        length = 0\n",
    "        while node:\n",
    "            length += 1\n",
    "            node = node.next\n",
    "        return length\n",
    "\n",
    "    # Helper function to rotate the linked list\n",
    "    def rotate(node, steps):\n",
    "        for _ in range(steps):\n",
    "            prev, current = None, node\n",
    "            while current.next:\n",
    "                prev = current\n",
    "                current = current.next\n",
    "            prev.next = None\n",
    "            current.next = node\n",
    "            node = current\n",
    "        return node\n",
    "\n",
    "    if not head or k == 0:\n",
    "        return head\n",
    "\n",
    "    length = find_length(head)\n",
    "    k = k % length  # Effective rotation amount\n",
    "\n",
    "    if k == 0:\n",
    "        return head\n",
    "\n",
    "    head = rotate(head, length - k)\n",
    "    return head\n",
    "\n",
    "# Example usage:\n",
    "# Create the linked list\n",
    "head = ListNode(1, ListNode(2, ListNode(3, ListNode(4, ListNode(5)))))\n",
    "\n",
    "# Rotate the linked list to the right by k places\n",
    "result = rotate_right(head, 2)\n",
    "\n",
    "# Print the result\n",
    "while result is not None:\n",
    "    print(result.val, end=\" -> \")\n",
    "    result = result.next"
   ]
  },
  {
   "cell_type": "code",
   "execution_count": 20,
   "id": "ed7b7dd3-4f0b-4791-a542-f2639f9f8d71",
   "metadata": {},
   "outputs": [],
   "source": [
    "# problem 12"
   ]
  },
  {
   "cell_type": "code",
   "execution_count": 21,
   "id": "61afcc6e-82f9-4c95-b820-b39beb8bdc50",
   "metadata": {},
   "outputs": [
    {
     "name": "stdout",
     "output_type": "stream",
     "text": [
      "1 -> 3 -> 5 -> 2 -> 4 -> "
     ]
    }
   ],
   "source": [
    "class ListNode:\n",
    "    def __init__(self, val=0, next=None):\n",
    "        self.val = val\n",
    "        self.next = next\n",
    "\n",
    "def rearrange_linked_list(head):\n",
    "    if not head or not head.next or not head.next.next:\n",
    "        return head\n",
    "\n",
    "    odd_head = ListNode(0)\n",
    "    even_head = ListNode(0)\n",
    "    odd_current = odd_head\n",
    "    even_current = even_head\n",
    "    is_odd = True\n",
    "\n",
    "    while head:\n",
    "        if is_odd:\n",
    "            odd_current.next = head\n",
    "            odd_current = odd_current.next\n",
    "        else:\n",
    "            even_current.next = head\n",
    "            even_current = even_current.next\n",
    "\n",
    "        is_odd = not is_odd\n",
    "        head = head.next\n",
    "\n",
    "    # Connect the last node of odd list to the head of the even list\n",
    "    odd_current.next = even_head.next\n",
    "    even_current.next = None\n",
    "\n",
    "    return odd_head.next\n",
    "\n",
    "# Example usage:\n",
    "# Create the linked list\n",
    "head = ListNode(1, ListNode(2, ListNode(3, ListNode(4, ListNode(5)))))\n",
    "\n",
    "# Rearrange the linked list\n",
    "result = rearrange_linked_list(head)\n",
    "\n",
    "# Print the result\n",
    "while result is not None:\n",
    "    print(result.val, end=\" -> \")\n",
    "    result = result.next"
   ]
  },
  {
   "cell_type": "code",
   "execution_count": 22,
   "id": "74cdd208-9b1b-4f10-8496-1192ef7d2175",
   "metadata": {},
   "outputs": [],
   "source": [
    "# problem 13"
   ]
  },
  {
   "cell_type": "code",
   "execution_count": 23,
   "id": "b431ac88-6aba-4949-95bb-14c6d991bc5e",
   "metadata": {},
   "outputs": [
    {
     "name": "stdout",
     "output_type": "stream",
     "text": [
      "1 -> 2 -> 4 -> "
     ]
    }
   ],
   "source": [
    "class ListNode:\n",
    "    def __init__(self, val=0, next=None):\n",
    "        self.val = val\n",
    "        self.next = next\n",
    "\n",
    "def add_one(head):\n",
    "    dummy = ListNode(0)\n",
    "    dummy.next = head\n",
    "    last_non_nine = dummy\n",
    "\n",
    "    # Traverse the linked list to find the rightmost non-nine node\n",
    "    while head:\n",
    "        if head.val != 9:\n",
    "            last_non_nine = head\n",
    "        head = head.next\n",
    "\n",
    "    # Increment the rightmost non-nine node by 1\n",
    "    last_non_nine.val += 1\n",
    "    current = last_non_nine.next\n",
    "\n",
    "    # Set all the following nodes to zero\n",
    "    while current:\n",
    "        current.val = 0\n",
    "        current = current.next\n",
    "\n",
    "    # If the dummy node was updated, return it; otherwise, return the original head\n",
    "    return dummy if dummy.val == 1 else dummy.next\n",
    "\n",
    "# Example usage:\n",
    "# Create the linked list\n",
    "head = ListNode(1, ListNode(2, ListNode(3)))\n",
    "\n",
    "# Add one to the linked list\n",
    "result = add_one(head)\n",
    "\n",
    "# Print the result\n",
    "while result is not None:\n",
    "    print(result.val, end=\" -> \")\n",
    "    result = result.next"
   ]
  },
  {
   "cell_type": "code",
   "execution_count": null,
   "id": "f93102f9-62b6-429c-94e9-8960e2afaa3e",
   "metadata": {},
   "outputs": [],
   "source": [
    "# problem 14"
   ]
  },
  {
   "cell_type": "code",
   "execution_count": 24,
   "id": "ae8e85ca-4d70-4c20-985c-a601aad51b55",
   "metadata": {},
   "outputs": [
    {
     "name": "stdout",
     "output_type": "stream",
     "text": [
      "2\n"
     ]
    }
   ],
   "source": [
    "def search_insert(nums, target):\n",
    "    left, right = 0, len(nums) - 1\n",
    "\n",
    "    while left <= right:\n",
    "        mid = left + (right - left) // 2\n",
    "\n",
    "        if nums[mid] == target:\n",
    "            return mid\n",
    "        elif nums[mid] < target:\n",
    "            left = mid + 1\n",
    "        else:\n",
    "            right = mid - 1\n",
    "\n",
    "    # If the target is not found, return the index where it would be inserted\n",
    "    return left\n",
    "\n",
    "# Example usage:\n",
    "nums = [1, 3, 5, 6]\n",
    "target = 5\n",
    "\n",
    "result = search_insert(nums, target)\n",
    "print(result)"
   ]
  },
  {
   "cell_type": "code",
   "execution_count": null,
   "id": "bed92af2-1c75-4b76-9004-800c1734cc84",
   "metadata": {},
   "outputs": [],
   "source": [
    "# problem 15"
   ]
  },
  {
   "cell_type": "code",
   "execution_count": 25,
   "id": "9928b67e-cd1d-4b99-9d13-e164dda11486",
   "metadata": {},
   "outputs": [
    {
     "name": "stdout",
     "output_type": "stream",
     "text": [
      "0\n"
     ]
    }
   ],
   "source": [
    "def find_min(nums):\n",
    "    left, right = 0, len(nums) - 1\n",
    "\n",
    "    while left < right:\n",
    "        mid = left + (right - left) // 2\n",
    "\n",
    "        if nums[mid] > nums[right]:\n",
    "            # The minimum element is in the right half\n",
    "            left = mid + 1\n",
    "        else:\n",
    "            # The minimum element is in the left half or at mid\n",
    "            right = mid\n",
    "\n",
    "    return nums[left]\n",
    "\n",
    "# Example usage:\n",
    "nums = [4, 5, 6, 7, 0, 1, 2]\n",
    "result = find_min(nums)\n",
    "print(result)"
   ]
  },
  {
   "cell_type": "code",
   "execution_count": 26,
   "id": "25efed4f-0ab1-450c-83ef-df3824a8e5fc",
   "metadata": {},
   "outputs": [],
   "source": [
    "# problem 16"
   ]
  },
  {
   "cell_type": "code",
   "execution_count": 27,
   "id": "878f68b0-251e-41af-b25d-ed862857c805",
   "metadata": {},
   "outputs": [
    {
     "name": "stdout",
     "output_type": "stream",
     "text": [
      "4\n"
     ]
    }
   ],
   "source": [
    "def search_rotated(nums, target):\n",
    "    left, right = 0, len(nums) - 1\n",
    "\n",
    "    while left <= right:\n",
    "        mid = left + (right - left) // 2\n",
    "\n",
    "        if nums[mid] == target:\n",
    "            return mid\n",
    "\n",
    "        # Check which half is sorted\n",
    "        if nums[left] <= nums[mid]:\n",
    "            # Left half is sorted\n",
    "            if nums[left] <= target < nums[mid]:\n",
    "                right = mid - 1\n",
    "            else:\n",
    "                left = mid + 1\n",
    "        else:\n",
    "            # Right half is sorted\n",
    "            if nums[mid] < target <= nums[right]:\n",
    "                left = mid + 1\n",
    "            else:\n",
    "                right = mid - 1\n",
    "\n",
    "    return -1  # Target not found\n",
    "\n",
    "# Example usage:\n",
    "nums = [4, 5, 6, 7, 0, 1, 2]\n",
    "target = 0\n",
    "\n",
    "result = search_rotated(nums, target)\n",
    "print(result)"
   ]
  },
  {
   "cell_type": "code",
   "execution_count": 1,
   "id": "d523bcea-de3b-40c6-ab82-926f622dc1cf",
   "metadata": {},
   "outputs": [],
   "source": [
    "# problem 17"
   ]
  },
  {
   "cell_type": "code",
   "execution_count": 2,
   "id": "b98f8027-9087-425c-92d3-821040e75f3e",
   "metadata": {},
   "outputs": [
    {
     "name": "stdout",
     "output_type": "stream",
     "text": [
      "2\n"
     ]
    }
   ],
   "source": [
    "def find_peak_element(nums):\n",
    "    left, right = 0, len(nums) - 1\n",
    "\n",
    "    while left < right:\n",
    "        mid = left + (right - left) // 2\n",
    "\n",
    "        if nums[mid] < nums[mid + 1]:\n",
    "            # The peak element is in the right half\n",
    "            left = mid + 1\n",
    "        else:\n",
    "            # The peak element is in the left half or at mid\n",
    "            right = mid\n",
    "\n",
    "    return left\n",
    "\n",
    "# Example usage:\n",
    "nums = [1, 2, 3, 1]\n",
    "result = find_peak_element(nums)\n",
    "print(result)"
   ]
  },
  {
   "cell_type": "code",
   "execution_count": 3,
   "id": "105e74e8-b142-4960-867c-f6733a07012b",
   "metadata": {},
   "outputs": [],
   "source": [
    "# problem 18"
   ]
  },
  {
   "cell_type": "code",
   "execution_count": 4,
   "id": "a7d2467d-8a43-4590-bbe2-6f29eba328b8",
   "metadata": {},
   "outputs": [
    {
     "name": "stdout",
     "output_type": "stream",
     "text": [
      "8\n"
     ]
    }
   ],
   "source": [
    "def count_negatives(grid):\n",
    "    m, n = len(grid), len(grid[0])\n",
    "    count = 0\n",
    "    row, col = 0, n - 1\n",
    "\n",
    "    while row < m and col >= 0:\n",
    "        if grid[row][col] < 0:\n",
    "            # If the current element is negative, all elements to its left are also negative\n",
    "            count += m - row\n",
    "            col -= 1\n",
    "        else:\n",
    "            # Move to the next row\n",
    "            row += 1\n",
    "\n",
    "    return count\n",
    "\n",
    "# Example usage:\n",
    "grid = [\n",
    "    [4, 3, 2, -1],\n",
    "    [3, 2, 1, -1],\n",
    "    [1, 1, -1, -2],\n",
    "    [-1, -1, -2, -3]\n",
    "]\n",
    "\n",
    "result = count_negatives(grid)\n",
    "print(result)"
   ]
  },
  {
   "cell_type": "code",
   "execution_count": 5,
   "id": "0c22df4c-2344-47c8-a0e8-926fdc3f4c31",
   "metadata": {},
   "outputs": [],
   "source": [
    "# problem 19"
   ]
  },
  {
   "cell_type": "code",
   "execution_count": 6,
   "id": "888b209f-08e3-45b8-a4f0-41a665b81e2e",
   "metadata": {},
   "outputs": [
    {
     "name": "stdout",
     "output_type": "stream",
     "text": [
      "True\n"
     ]
    }
   ],
   "source": [
    "def search_matrix(matrix, target):\n",
    "    if not matrix or not matrix[0]:\n",
    "        return False\n",
    "\n",
    "    rows, cols = len(matrix), len(matrix[0])\n",
    "    left, right = 0, rows * cols - 1\n",
    "\n",
    "    while left <= right:\n",
    "        mid = (left + right) // 2\n",
    "        mid_value = matrix[mid // cols][mid % cols]\n",
    "\n",
    "        if mid_value == target:\n",
    "            return True\n",
    "        elif mid_value < target:\n",
    "            left = mid + 1\n",
    "        else:\n",
    "            right = mid - 1\n",
    "\n",
    "    return False\n",
    "\n",
    "# Example usage:\n",
    "matrix = [\n",
    "    [1, 3, 5, 7],\n",
    "    [10, 11, 16, 20],\n",
    "    [23, 30, 34, 60]\n",
    "]\n",
    "\n",
    "target = 3\n",
    "\n",
    "result = search_matrix(matrix, target)\n",
    "print(result)"
   ]
  },
  {
   "cell_type": "code",
   "execution_count": 7,
   "id": "6e5183cd-eaad-43a5-9a9d-51559181c188",
   "metadata": {},
   "outputs": [],
   "source": [
    "# problem 20"
   ]
  },
  {
   "cell_type": "code",
   "execution_count": 1,
   "id": "dd931fa3-8fc8-4336-9f5c-02bf14bc1119",
   "metadata": {},
   "outputs": [
    {
     "name": "stdout",
     "output_type": "stream",
     "text": [
      "2\n"
     ]
    }
   ],
   "source": [
    "def find_median_sorted_arrays(nums1, nums2):\n",
    "    # Ensure nums1 is the shorter array\n",
    "    if len(nums1) > len(nums2):\n",
    "        nums1, nums2 = nums2, nums1\n",
    "\n",
    "    x, y = len(nums1), len(nums2)\n",
    "    low, high = 0, x\n",
    "\n",
    "    while low <= high:\n",
    "        partition_x = (low + high) // 2\n",
    "        partition_y = (x + y + 1) // 2 - partition_x\n",
    "\n",
    "        max_left_x = float('-inf') if partition_x == 0 else nums1[partition_x - 1]\n",
    "        min_right_x = float('inf') if partition_x == x else nums1[partition_x]\n",
    "\n",
    "        max_left_y = float('-inf') if partition_y == 0 else nums2[partition_y - 1]\n",
    "        min_right_y = float('inf') if partition_y == y else nums2[partition_y]\n",
    "\n",
    "        if max_left_x <= min_right_y and max_left_y <= min_right_x:\n",
    "            if (x + y) % 2 == 0:\n",
    "                return (max(max_left_x, max_left_y) + min(min_right_x, min_right_y)) / 2.0\n",
    "            else:\n",
    "                return max(max_left_x, max_left_y)\n",
    "        elif max_left_x > min_right_y:\n",
    "            high = partition_x - 1\n",
    "        else:\n",
    "            low = partition_x + 1\n",
    "\n",
    "# Example usage:\n",
    "nums1 = [1, 3]\n",
    "nums2 = [2]\n",
    "\n",
    "result = find_median_sorted_arrays(nums1, nums2)\n",
    "print(result)"
   ]
  },
  {
   "cell_type": "code",
   "execution_count": 2,
   "id": "6fab7a52-1242-4a5d-99e5-84a26a81f427",
   "metadata": {},
   "outputs": [],
   "source": [
    "# problem 21"
   ]
  },
  {
   "cell_type": "code",
   "execution_count": 3,
   "id": "fdf8af82-b5b1-4f25-a776-6c2fa3191adb",
   "metadata": {},
   "outputs": [
    {
     "name": "stdout",
     "output_type": "stream",
     "text": [
      "c\n"
     ]
    }
   ],
   "source": [
    "def next_greatest_letter(letters, target):\n",
    "    left, right = 0, len(letters)\n",
    "\n",
    "    while left < right:\n",
    "        mid = left + (right - left) // 2\n",
    "\n",
    "        if letters[mid] <= target:\n",
    "            left = mid + 1\n",
    "        else:\n",
    "            right = mid\n",
    "\n",
    "    # If 'left' is beyond the array length, wrap around to the beginning\n",
    "    return letters[left % len(letters)]\n",
    "\n",
    "# Example usage:\n",
    "letters = ['c', 'f', 'j']\n",
    "target = 'a'\n",
    "\n",
    "result = next_greatest_letter(letters, target)\n",
    "print(result)"
   ]
  },
  {
   "cell_type": "code",
   "execution_count": 4,
   "id": "8c9b4cd3-0fda-4692-8822-b882fa3b56c2",
   "metadata": {},
   "outputs": [],
   "source": [
    "# problem 22"
   ]
  },
  {
   "cell_type": "code",
   "execution_count": 5,
   "id": "f96ff847-5aea-41fd-aa5b-5cd1c736c55e",
   "metadata": {},
   "outputs": [
    {
     "name": "stdout",
     "output_type": "stream",
     "text": [
      "[0, 0, 1, 1, 2, 2]\n"
     ]
    }
   ],
   "source": [
    "def sort_colors(nums):\n",
    "    low, mid, high = 0, 0, len(nums) - 1\n",
    "\n",
    "    while mid <= high:\n",
    "        if nums[mid] == 0:\n",
    "            nums[low], nums[mid] = nums[mid], nums[low]\n",
    "            low += 1\n",
    "            mid += 1\n",
    "        elif nums[mid] == 1:\n",
    "            mid += 1\n",
    "        else:\n",
    "            nums[mid], nums[high] = nums[high], nums[mid]\n",
    "            high -= 1\n",
    "\n",
    "nums = [2, 0, 2, 1, 1, 0]\n",
    "sort_colors(nums)\n",
    "print(nums)"
   ]
  },
  {
   "cell_type": "code",
   "execution_count": 6,
   "id": "c03991cc-06b1-408f-81b7-df155f6bcce9",
   "metadata": {},
   "outputs": [],
   "source": [
    "# problem 23"
   ]
  },
  {
   "cell_type": "code",
   "execution_count": 7,
   "id": "02ebfd09-dd6a-4d8f-bcd3-2ae1c937dd81",
   "metadata": {},
   "outputs": [
    {
     "name": "stdout",
     "output_type": "stream",
     "text": [
      "5\n"
     ]
    }
   ],
   "source": [
    "import heapq\n",
    "\n",
    "def find_kth_largest(nums, k):\n",
    "    heap = []\n",
    "\n",
    "    for num in nums:\n",
    "        heapq.heappush(heap, -num)  # Use max heap by negating elements\n",
    "\n",
    "    for _ in range(k - 1):\n",
    "        heapq.heappop(heap)\n",
    "\n",
    "    return -heapq.heappop(heap)\n",
    "\n",
    "# Example usage:\n",
    "nums = [3, 2, 1, 5, 6, 4]\n",
    "k = 2\n",
    "\n",
    "result = find_kth_largest(nums, k)\n",
    "print(result)"
   ]
  },
  {
   "cell_type": "code",
   "execution_count": 1,
   "id": "71425940-13c5-4cf9-a779-da6715430ea9",
   "metadata": {},
   "outputs": [],
   "source": [
    "# problem 24"
   ]
  },
  {
   "cell_type": "code",
   "execution_count": 2,
   "id": "9e7aed0f-bfee-4748-b3ed-27d7ae784a04",
   "metadata": {},
   "outputs": [
    {
     "name": "stdout",
     "output_type": "stream",
     "text": [
      "[3, 5, 1, 6, 2, 4]\n"
     ]
    }
   ],
   "source": [
    "def reorder_array(nums):\n",
    "    for i in range(1, len(nums), 2):\n",
    "        if i > 0 and nums[i] < nums[i - 1]:\n",
    "            nums[i], nums[i - 1] = nums[i - 1], nums[i]\n",
    "        if i < len(nums) - 1 and nums[i] < nums[i + 1]:\n",
    "            nums[i], nums[i + 1] = nums[i + 1], nums[i]\n",
    "    return nums\n",
    "\n",
    "nums = [3, 5, 2, 1, 6, 4]\n",
    "reordered_nums = reorder_array(nums)\n",
    "print(reordered_nums)"
   ]
  },
  {
   "cell_type": "code",
   "execution_count": 3,
   "id": "14e0ea82-8497-421a-8040-a5477aea11ce",
   "metadata": {},
   "outputs": [],
   "source": [
    "# problem 25"
   ]
  },
  {
   "cell_type": "code",
   "execution_count": 4,
   "id": "ccd194b0-8822-4ff6-9796-8217b5df7610",
   "metadata": {},
   "outputs": [
    {
     "name": "stdout",
     "output_type": "stream",
     "text": [
      "15\n"
     ]
    }
   ],
   "source": [
    "def calculate_sum(nums):\n",
    "    total = 0\n",
    "    for num in nums:\n",
    "        total += num\n",
    "    return total\n",
    "\n",
    "# Test the function\n",
    "nums = [1, 2, 3, 4, 5]\n",
    "result = calculate_sum(nums)\n",
    "print(result)"
   ]
  },
  {
   "cell_type": "code",
   "execution_count": 5,
   "id": "8dc5b17b-05fd-4b16-adb7-65b49369885e",
   "metadata": {},
   "outputs": [],
   "source": [
    "# problem 26"
   ]
  },
  {
   "cell_type": "code",
   "execution_count": 6,
   "id": "9288e046-55e7-46be-9143-5a2e3c249fd6",
   "metadata": {},
   "outputs": [
    {
     "name": "stdout",
     "output_type": "stream",
     "text": [
      "9\n"
     ]
    }
   ],
   "source": [
    "def find_maximum(nums):\n",
    "    if not nums:\n",
    "        return None\n",
    "    max_element = nums[0]\n",
    "    for num in nums:\n",
    "        if num > max_element:\n",
    "            max_element = num\n",
    "    return max_element\n",
    "\n",
    "# Test the function\n",
    "nums = [3, 7, 2, 9, 4, 1]\n",
    "result = find_maximum(nums)\n",
    "print(result)"
   ]
  },
  {
   "cell_type": "code",
   "execution_count": 7,
   "id": "ee2b85b8-cbae-42b4-9bde-46d3f0926759",
   "metadata": {},
   "outputs": [],
   "source": [
    "# problem 27"
   ]
  },
  {
   "cell_type": "code",
   "execution_count": 8,
   "id": "6dc3f4c9-ae29-4a13-bd53-5e772efbb8a1",
   "metadata": {},
   "outputs": [
    {
     "name": "stdout",
     "output_type": "stream",
     "text": [
      "2\n"
     ]
    }
   ],
   "source": [
    "def linear_search(nums, target):\n",
    "    for i in range(len(nums)):\n",
    "        if nums[i] == target:\n",
    "            return i\n",
    "    return -1     # Target not found\n",
    "\n",
    "\n",
    "nums = [5, 3, 8, 2, 7, 4]\n",
    "target = 8\n",
    "index = linear_search(nums, target)\n",
    "print(index)"
   ]
  },
  {
   "cell_type": "code",
   "execution_count": 9,
   "id": "7b4f1dad-8314-4cbd-b09e-79a6e1c0bfed",
   "metadata": {},
   "outputs": [],
   "source": [
    "# problem 28 "
   ]
  },
  {
   "cell_type": "code",
   "execution_count": 10,
   "id": "ad069d30-dba3-485f-b7d1-d0e2f099ebe8",
   "metadata": {},
   "outputs": [
    {
     "name": "stdout",
     "output_type": "stream",
     "text": [
      "120\n"
     ]
    }
   ],
   "source": [
    "def factorial(n):\n",
    "    if n == 0:\n",
    "        return 1\n",
    "    result = 1\n",
    "    for i in range(1, n + 1):\n",
    "        result *= i\n",
    "    return result\n",
    "\n",
    "# Test the function\n",
    "n = 5\n",
    "result = factorial(n)\n",
    "print(result)"
   ]
  },
  {
   "cell_type": "code",
   "execution_count": 11,
   "id": "99c84e00-5434-44a6-9bf2-30d43ceee44c",
   "metadata": {},
   "outputs": [],
   "source": [
    "# problem 29"
   ]
  },
  {
   "cell_type": "code",
   "execution_count": 12,
   "id": "a0f62d2e-a9d7-43e8-bd45-72fb1b65a327",
   "metadata": {},
   "outputs": [
    {
     "name": "stdout",
     "output_type": "stream",
     "text": [
      "True\n"
     ]
    }
   ],
   "source": [
    "import math\n",
    "\n",
    "def is_prime(n):\n",
    "    if n <= 1:\n",
    "        return False\n",
    "    for i in range(2, int(math.sqrt(n)) + 1):\n",
    "        if n % i == 0:\n",
    "            return False\n",
    "    return True\n",
    "\n",
    "# Test the function\n",
    "n = 7\n",
    "result = is_prime(n)\n",
    "print(result)"
   ]
  },
  {
   "cell_type": "code",
   "execution_count": 13,
   "id": "c502a79f-baa3-4c16-bd08-4966aed1efd7",
   "metadata": {},
   "outputs": [],
   "source": [
    "# problem 30"
   ]
  },
  {
   "cell_type": "code",
   "execution_count": 14,
   "id": "7369ed34-f23d-43bf-81e2-908836cf9780",
   "metadata": {},
   "outputs": [
    {
     "name": "stdout",
     "output_type": "stream",
     "text": [
      "[0, 1, 1, 2, 3, 5, 8]\n"
     ]
    }
   ],
   "source": [
    "def generate_fibonacci(n):\n",
    "    fibonacci_series = [0, 1]\n",
    "    while True:\n",
    "        next_fibonacci = fibonacci_series[-1] + fibonacci_series[-2]\n",
    "        if next_fibonacci > n:\n",
    "            break\n",
    "        fibonacci_series.append(next_fibonacci)\n",
    "    return fibonacci_series\n",
    "\n",
    "# Test the function\n",
    "n = 8\n",
    "fibonacci_series = generate_fibonacci(n)\n",
    "print(fibonacci_series)"
   ]
  },
  {
   "cell_type": "code",
   "execution_count": 15,
   "id": "519f1e18-8d97-4c8e-b7a0-99d4925f8f47",
   "metadata": {},
   "outputs": [],
   "source": [
    "# problem 31"
   ]
  },
  {
   "cell_type": "code",
   "execution_count": 1,
   "id": "e9648d6a-0253-44bf-858f-881dc4737c65",
   "metadata": {},
   "outputs": [
    {
     "name": "stdout",
     "output_type": "stream",
     "text": [
      "81\n"
     ]
    }
   ],
   "source": [
    "def power(base, exponent):\n",
    "    if exponent == 0:\n",
    "        return 1\n",
    "    if exponent == 1:\n",
    "        return base\n",
    "    return base * power(base, exponent - 1)\n",
    "\n",
    "base = 3\n",
    "exponent = 4\n",
    "result = power(base, exponent)\n",
    "print(result)"
   ]
  },
  {
   "cell_type": "code",
   "execution_count": 2,
   "id": "b8462aaf-e34d-41e8-b051-664880c10f56",
   "metadata": {},
   "outputs": [],
   "source": [
    "# problem 32"
   ]
  },
  {
   "cell_type": "code",
   "execution_count": 3,
   "id": "a5df52c9-04d3-40a6-b9c3-b30c7a7bd873",
   "metadata": {},
   "outputs": [
    {
     "name": "stdout",
     "output_type": "stream",
     "text": [
      "olleh\n"
     ]
    }
   ],
   "source": [
    "def reverse_string(s):\n",
    "    return s[::-1]\n",
    "\n",
    "input_string = \"hello\"\n",
    "reversed_string = reverse_string(input_string)\n",
    "print(reversed_string)"
   ]
  },
  {
   "cell_type": "code",
   "execution_count": null,
   "id": "ab47ff32-a86c-40b4-b082-073fe97764aa",
   "metadata": {},
   "outputs": [],
   "source": []
  }
 ],
 "metadata": {
  "kernelspec": {
   "display_name": "Python 3 (ipykernel)",
   "language": "python",
   "name": "python3"
  },
  "language_info": {
   "codemirror_mode": {
    "name": "ipython",
    "version": 3
   },
   "file_extension": ".py",
   "mimetype": "text/x-python",
   "name": "python",
   "nbconvert_exporter": "python",
   "pygments_lexer": "ipython3",
   "version": "3.10.8"
  }
 },
 "nbformat": 4,
 "nbformat_minor": 5
}
